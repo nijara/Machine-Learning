{
  "nbformat": 4,
  "nbformat_minor": 0,
  "metadata": {
    "colab": {
      "name": "Nijara Das (Assignment 1).ipynb",
      "provenance": [],
      "authorship_tag": "ABX9TyNnHkS8FZXSciJMGZzfd1cf",
      "include_colab_link": true
    },
    "kernelspec": {
      "name": "python3",
      "display_name": "Python 3"
    }
  },
  "cells": [
    {
      "cell_type": "markdown",
      "metadata": {
        "id": "view-in-github",
        "colab_type": "text"
      },
      "source": [
        "<a href=\"https://colab.research.google.com/github/nijara/Machine-Learning/blob/master/Nijara_Das_(Assignment_1).ipynb\" target=\"_parent\"><img src=\"https://colab.research.google.com/assets/colab-badge.svg\" alt=\"Open In Colab\"/></a>"
      ]
    },
    {
      "cell_type": "code",
      "metadata": {
        "colab": {
          "base_uri": "https://localhost:8080/",
          "height": 891
        },
        "id": "xtThD-rscMAJ",
        "outputId": "c6d55a76-d2ef-41be-8c3a-89ab68a539a1"
      },
      "source": [
        "from nltk.chat.util import Chat, reflections\r\n",
        "\r\n",
        "pairs =[\r\n",
        "        \r\n",
        "['(hi|hello|hey|Namaste)', ['Hey There !', 'Hi There !', 'Hey !', 'Namaste !', 'Hi! How can I help you today?']],\r\n",
        "['(.*) am looking something in burger?',['Great! we have a plenty of options to choose from']],\r\n",
        "['(.*) all types do you have?', ['(We have veg burgers, Non-veg Burgers, Wraps)']],\r\n",
        "['I want mcveggie burger and some fries and pizza mcpuff?', ['Sure! I will place your order right away']],\r\n",
        "['Do you have something in Desserts?', ['(We have Mcswirl,Mcflurry,Browniefudge,Mcfloat,Cold Drinks)']],\r\n",
        "['I want one Mcflurry and Browniefudge?', ['Sure! I will add these in your order, anything else would you like to order?']],\r\n",
        "['Can you repeat my order?', ['Sure!, Your order is one Mcveggie, fries and Pizza Mcpuff and one Mcflurry and Browniefudge.']],\r\n",
        "['Do you have home delivery option?', ['yes, we do home delivery']],\r\n",
        "['Are you open on Sundays?', ['Yes, we are open on Sundays as well']],\r\n",
        "['(.*) to contact you?', ['Please call @ 8904307393 or email @ support.Mcd@gmail.com']],\r\n",
        "['(ok|ok bye|bye|Thank You so much)', ['Thanks for coming! Have a nice day!']]\r\n",
        "]\r\n",
        "\r\n",
        "chat = Chat(pairs, reflections)\r\n",
        "chat.converse()"
      ],
      "execution_count": 22,
      "outputs": [
        {
          "output_type": "stream",
          "text": [
            ">hello\n",
            "Hi There !\n",
            ">I am looking something in burger?\n",
            "Great! we have a plenty of options to choose from\n",
            ">What all types do you have?\n",
            "(We have veg burgers, Non-veg Burgers, Wraps)\n",
            ">I want mcveggie burger and some fries and pizza mcpuff?\n",
            "Sure! I will place your order right away\n",
            ">Do you have something in Desserts?\n",
            "(We have Mcswirl,Mcflurry,Browniefudge,Mcfloat,Cold Drinks)\n",
            ">I want one Mcflurry and Browniefudge?\n",
            "Sure! I will add these in your order, anything else would you like to order?\n",
            ">Can you repeat my order?\n",
            "Sure!, Your order is one Mcveggie, fries and Pizza Mcpuff and one Mcflurry and Browniefudge.\n",
            ">Do you have home delivery option?\n",
            "yes, we do home delivery\n",
            ">Are you open on Sundays?\n",
            "Yes, we are open on Sundays as well\n",
            ">How to contact you?\n",
            "Please call @ 8904307393 or email @ support.Mcd@gmail.com\n",
            ">Thank You so much\n",
            "Thanks for coming! Have a nice day!\n"
          ],
          "name": "stdout"
        },
        {
          "output_type": "error",
          "ename": "KeyboardInterrupt",
          "evalue": "ignored",
          "traceback": [
            "\u001b[0;31m---------------------------------------------------------------------------\u001b[0m",
            "\u001b[0;31mKeyboardInterrupt\u001b[0m                         Traceback (most recent call last)",
            "\u001b[0;32m/usr/local/lib/python3.6/dist-packages/ipykernel/kernelbase.py\u001b[0m in \u001b[0;36m_input_request\u001b[0;34m(self, prompt, ident, parent, password)\u001b[0m\n\u001b[1;32m    728\u001b[0m             \u001b[0;32mtry\u001b[0m\u001b[0;34m:\u001b[0m\u001b[0;34m\u001b[0m\u001b[0;34m\u001b[0m\u001b[0m\n\u001b[0;32m--> 729\u001b[0;31m                 \u001b[0mident\u001b[0m\u001b[0;34m,\u001b[0m \u001b[0mreply\u001b[0m \u001b[0;34m=\u001b[0m \u001b[0mself\u001b[0m\u001b[0;34m.\u001b[0m\u001b[0msession\u001b[0m\u001b[0;34m.\u001b[0m\u001b[0mrecv\u001b[0m\u001b[0;34m(\u001b[0m\u001b[0mself\u001b[0m\u001b[0;34m.\u001b[0m\u001b[0mstdin_socket\u001b[0m\u001b[0;34m,\u001b[0m \u001b[0;36m0\u001b[0m\u001b[0;34m)\u001b[0m\u001b[0;34m\u001b[0m\u001b[0;34m\u001b[0m\u001b[0m\n\u001b[0m\u001b[1;32m    730\u001b[0m             \u001b[0;32mexcept\u001b[0m \u001b[0mException\u001b[0m\u001b[0;34m:\u001b[0m\u001b[0;34m\u001b[0m\u001b[0;34m\u001b[0m\u001b[0m\n",
            "\u001b[0;32m/usr/local/lib/python3.6/dist-packages/jupyter_client/session.py\u001b[0m in \u001b[0;36mrecv\u001b[0;34m(self, socket, mode, content, copy)\u001b[0m\n\u001b[1;32m    802\u001b[0m         \u001b[0;32mtry\u001b[0m\u001b[0;34m:\u001b[0m\u001b[0;34m\u001b[0m\u001b[0;34m\u001b[0m\u001b[0m\n\u001b[0;32m--> 803\u001b[0;31m             \u001b[0mmsg_list\u001b[0m \u001b[0;34m=\u001b[0m \u001b[0msocket\u001b[0m\u001b[0;34m.\u001b[0m\u001b[0mrecv_multipart\u001b[0m\u001b[0;34m(\u001b[0m\u001b[0mmode\u001b[0m\u001b[0;34m,\u001b[0m \u001b[0mcopy\u001b[0m\u001b[0;34m=\u001b[0m\u001b[0mcopy\u001b[0m\u001b[0;34m)\u001b[0m\u001b[0;34m\u001b[0m\u001b[0;34m\u001b[0m\u001b[0m\n\u001b[0m\u001b[1;32m    804\u001b[0m         \u001b[0;32mexcept\u001b[0m \u001b[0mzmq\u001b[0m\u001b[0;34m.\u001b[0m\u001b[0mZMQError\u001b[0m \u001b[0;32mas\u001b[0m \u001b[0me\u001b[0m\u001b[0;34m:\u001b[0m\u001b[0;34m\u001b[0m\u001b[0;34m\u001b[0m\u001b[0m\n",
            "\u001b[0;32m/usr/local/lib/python3.6/dist-packages/zmq/sugar/socket.py\u001b[0m in \u001b[0;36mrecv_multipart\u001b[0;34m(self, flags, copy, track)\u001b[0m\n\u001b[1;32m    582\u001b[0m         \"\"\"\n\u001b[0;32m--> 583\u001b[0;31m         \u001b[0mparts\u001b[0m \u001b[0;34m=\u001b[0m \u001b[0;34m[\u001b[0m\u001b[0mself\u001b[0m\u001b[0;34m.\u001b[0m\u001b[0mrecv\u001b[0m\u001b[0;34m(\u001b[0m\u001b[0mflags\u001b[0m\u001b[0;34m,\u001b[0m \u001b[0mcopy\u001b[0m\u001b[0;34m=\u001b[0m\u001b[0mcopy\u001b[0m\u001b[0;34m,\u001b[0m \u001b[0mtrack\u001b[0m\u001b[0;34m=\u001b[0m\u001b[0mtrack\u001b[0m\u001b[0;34m)\u001b[0m\u001b[0;34m]\u001b[0m\u001b[0;34m\u001b[0m\u001b[0;34m\u001b[0m\u001b[0m\n\u001b[0m\u001b[1;32m    584\u001b[0m         \u001b[0;31m# have first part already, only loop while more to receive\u001b[0m\u001b[0;34m\u001b[0m\u001b[0;34m\u001b[0m\u001b[0;34m\u001b[0m\u001b[0m\n",
            "\u001b[0;32mzmq/backend/cython/socket.pyx\u001b[0m in \u001b[0;36mzmq.backend.cython.socket.Socket.recv\u001b[0;34m()\u001b[0m\n",
            "\u001b[0;32mzmq/backend/cython/socket.pyx\u001b[0m in \u001b[0;36mzmq.backend.cython.socket.Socket.recv\u001b[0;34m()\u001b[0m\n",
            "\u001b[0;32mzmq/backend/cython/socket.pyx\u001b[0m in \u001b[0;36mzmq.backend.cython.socket._recv_copy\u001b[0;34m()\u001b[0m\n",
            "\u001b[0;32m/usr/local/lib/python3.6/dist-packages/zmq/backend/cython/checkrc.pxd\u001b[0m in \u001b[0;36mzmq.backend.cython.checkrc._check_rc\u001b[0;34m()\u001b[0m\n",
            "\u001b[0;31mKeyboardInterrupt\u001b[0m: ",
            "\nDuring handling of the above exception, another exception occurred:\n",
            "\u001b[0;31mKeyboardInterrupt\u001b[0m                         Traceback (most recent call last)",
            "\u001b[0;32m<ipython-input-22-1f58002ef82c>\u001b[0m in \u001b[0;36m<module>\u001b[0;34m()\u001b[0m\n\u001b[1;32m     17\u001b[0m \u001b[0;34m\u001b[0m\u001b[0m\n\u001b[1;32m     18\u001b[0m \u001b[0mchat\u001b[0m \u001b[0;34m=\u001b[0m \u001b[0mChat\u001b[0m\u001b[0;34m(\u001b[0m\u001b[0mpairs\u001b[0m\u001b[0;34m,\u001b[0m \u001b[0mreflections\u001b[0m\u001b[0;34m)\u001b[0m\u001b[0;34m\u001b[0m\u001b[0;34m\u001b[0m\u001b[0m\n\u001b[0;32m---> 19\u001b[0;31m \u001b[0mchat\u001b[0m\u001b[0;34m.\u001b[0m\u001b[0mconverse\u001b[0m\u001b[0;34m(\u001b[0m\u001b[0;34m)\u001b[0m\u001b[0;34m\u001b[0m\u001b[0;34m\u001b[0m\u001b[0m\n\u001b[0m",
            "\u001b[0;32m/usr/local/lib/python3.6/dist-packages/nltk/chat/util.py\u001b[0m in \u001b[0;36mconverse\u001b[0;34m(self, quit)\u001b[0m\n\u001b[1;32m    115\u001b[0m         \u001b[0;32mwhile\u001b[0m \u001b[0muser_input\u001b[0m \u001b[0;34m!=\u001b[0m \u001b[0mquit\u001b[0m\u001b[0;34m:\u001b[0m\u001b[0;34m\u001b[0m\u001b[0;34m\u001b[0m\u001b[0m\n\u001b[1;32m    116\u001b[0m             \u001b[0muser_input\u001b[0m \u001b[0;34m=\u001b[0m \u001b[0mquit\u001b[0m\u001b[0;34m\u001b[0m\u001b[0;34m\u001b[0m\u001b[0m\n\u001b[0;32m--> 117\u001b[0;31m             \u001b[0;32mtry\u001b[0m\u001b[0;34m:\u001b[0m \u001b[0muser_input\u001b[0m \u001b[0;34m=\u001b[0m \u001b[0minput\u001b[0m\u001b[0;34m(\u001b[0m\u001b[0;34m\">\"\u001b[0m\u001b[0;34m)\u001b[0m\u001b[0;34m\u001b[0m\u001b[0;34m\u001b[0m\u001b[0m\n\u001b[0m\u001b[1;32m    118\u001b[0m             \u001b[0;32mexcept\u001b[0m \u001b[0mEOFError\u001b[0m\u001b[0;34m:\u001b[0m\u001b[0;34m\u001b[0m\u001b[0;34m\u001b[0m\u001b[0m\n\u001b[1;32m    119\u001b[0m                 \u001b[0mprint\u001b[0m\u001b[0;34m(\u001b[0m\u001b[0muser_input\u001b[0m\u001b[0;34m)\u001b[0m\u001b[0;34m\u001b[0m\u001b[0;34m\u001b[0m\u001b[0m\n",
            "\u001b[0;32m/usr/local/lib/python3.6/dist-packages/ipykernel/kernelbase.py\u001b[0m in \u001b[0;36mraw_input\u001b[0;34m(self, prompt)\u001b[0m\n\u001b[1;32m    702\u001b[0m             \u001b[0mself\u001b[0m\u001b[0;34m.\u001b[0m\u001b[0m_parent_ident\u001b[0m\u001b[0;34m,\u001b[0m\u001b[0;34m\u001b[0m\u001b[0;34m\u001b[0m\u001b[0m\n\u001b[1;32m    703\u001b[0m             \u001b[0mself\u001b[0m\u001b[0;34m.\u001b[0m\u001b[0m_parent_header\u001b[0m\u001b[0;34m,\u001b[0m\u001b[0;34m\u001b[0m\u001b[0;34m\u001b[0m\u001b[0m\n\u001b[0;32m--> 704\u001b[0;31m             \u001b[0mpassword\u001b[0m\u001b[0;34m=\u001b[0m\u001b[0;32mFalse\u001b[0m\u001b[0;34m,\u001b[0m\u001b[0;34m\u001b[0m\u001b[0;34m\u001b[0m\u001b[0m\n\u001b[0m\u001b[1;32m    705\u001b[0m         )\n\u001b[1;32m    706\u001b[0m \u001b[0;34m\u001b[0m\u001b[0m\n",
            "\u001b[0;32m/usr/local/lib/python3.6/dist-packages/ipykernel/kernelbase.py\u001b[0m in \u001b[0;36m_input_request\u001b[0;34m(self, prompt, ident, parent, password)\u001b[0m\n\u001b[1;32m    732\u001b[0m             \u001b[0;32mexcept\u001b[0m \u001b[0mKeyboardInterrupt\u001b[0m\u001b[0;34m:\u001b[0m\u001b[0;34m\u001b[0m\u001b[0;34m\u001b[0m\u001b[0m\n\u001b[1;32m    733\u001b[0m                 \u001b[0;31m# re-raise KeyboardInterrupt, to truncate traceback\u001b[0m\u001b[0;34m\u001b[0m\u001b[0;34m\u001b[0m\u001b[0;34m\u001b[0m\u001b[0m\n\u001b[0;32m--> 734\u001b[0;31m                 \u001b[0;32mraise\u001b[0m \u001b[0mKeyboardInterrupt\u001b[0m\u001b[0;34m\u001b[0m\u001b[0;34m\u001b[0m\u001b[0m\n\u001b[0m\u001b[1;32m    735\u001b[0m             \u001b[0;32melse\u001b[0m\u001b[0;34m:\u001b[0m\u001b[0;34m\u001b[0m\u001b[0;34m\u001b[0m\u001b[0m\n\u001b[1;32m    736\u001b[0m                 \u001b[0;32mbreak\u001b[0m\u001b[0;34m\u001b[0m\u001b[0;34m\u001b[0m\u001b[0m\n",
            "\u001b[0;31mKeyboardInterrupt\u001b[0m: "
          ]
        }
      ]
    },
    {
      "cell_type": "code",
      "metadata": {
        "colab": {
          "base_uri": "https://localhost:8080/"
        },
        "id": "XX76RzODpRiD",
        "outputId": "b235929d-32a2-4049-8d02-c99e11c81c69"
      },
      "source": [
        "!pip install chatterbot\r\n",
        "from chatterbot import ChatBot\r\n",
        "from chatterbot.trainers import ListTrainer\r\n",
        "\r\n",
        "# Create a new instance of a ChatBot\r\n",
        "bot = ChatBot(\r\n",
        "    'LensBot',\r\n",
        "    logic_adapters=[\r\n",
        "      {\r\n",
        "          'import_path': 'chatterbot.logic.BestMatch',\r\n",
        "          'default_response': 'I am sorry, but I do not understand.',\r\n",
        "      }\r\n",
        "    ]\r\n",
        ")\r\n",
        "\r\n",
        "trainer = ListTrainer(bot)\r\n",
        "\r\n",
        "# Train the chat bot with a few responses\r\n",
        "trainer.train([\r\n",
        "      'hello',\r\n",
        "      'Hi There !',\r\n",
        "      'I am looking something in burger?',\r\n",
        "      'Great! we have a plenty of options to choose from',\r\n",
        "      'What all types do you have?',\r\n",
        "      '(We have veg burgers, Non-veg Burgers, Wraps)',\r\n",
        "      'I want mcveggie burger and some fries and pizza mcpuff?',\r\n",
        "      'Sure! I will place your order right away',\r\n",
        "      'Do you have something in Desserts?',\r\n",
        "      '(We have Mcswirl,Mcflurry,Browniefudge,Mcfloat,Cold Drinks)',\r\n",
        "      'I want one Mcflurry and Browniefudge?',\r\n",
        "      'Sure! I will add these in your order, anything else would you like to order?',\r\n",
        "      'Can you repeat my order?',\r\n",
        "      'Sure!, Your order is one Mcveggie, fries and Pizza Mcpuff and one Mcflurry and Browniefudge.',\r\n",
        "      'Do you have home delivery option?',\r\n",
        "      'yes, we do home delivery',\r\n",
        "      'Are you open on Sundays?',\r\n",
        "      'Yes, we are open on Sundays as well',\r\n",
        "      'How to contact you?',\r\n",
        "      'Please call @ 8904307393 or email @ support.Mcd@gmail.com',\r\n",
        "      'Thank You so much',\r\n",
        "      'Thanks for coming! Have a nice day!',\r\n",
        "])\r\n",
        "\r\n",
        "name=input(\"Enter Your Name: \")\r\n",
        "print(\"Hi, Welcome to McDonald! Let me know how can I help you?\")\r\n",
        "while True:\r\n",
        "  request=input(name+':')\r\n",
        "  if request=='Bye' or request =='bye':\r\n",
        "    print('Bot: Thank you for visiting McDonald')\r\n",
        "    break\r\n",
        "  else:\r\n",
        "      response=bot.get_response(request)\r\n",
        "      print('Bot:', response)"
      ],
      "execution_count": 28,
      "outputs": [
        {
          "output_type": "stream",
          "text": [
            "Requirement already satisfied: chatterbot in /usr/local/lib/python3.6/dist-packages (1.0.8)\n",
            "Requirement already satisfied: python-dateutil<2.9,>=2.8 in /usr/local/lib/python3.6/dist-packages (from chatterbot) (2.8.1)\n",
            "Requirement already satisfied: pytz in /usr/local/lib/python3.6/dist-packages (from chatterbot) (2018.9)\n",
            "Requirement already satisfied: mathparse<0.2,>=0.1 in /usr/local/lib/python3.6/dist-packages (from chatterbot) (0.1.2)\n",
            "Requirement already satisfied: sqlalchemy<1.4,>=1.3 in /usr/local/lib/python3.6/dist-packages (from chatterbot) (1.3.23)\n",
            "Requirement already satisfied: six>=1.5 in /usr/local/lib/python3.6/dist-packages (from python-dateutil<2.9,>=2.8->chatterbot) (1.15.0)\n",
            "List Trainer: [####################] 100%\n",
            "Enter Your Name: Nijara\n",
            "Hi, Welcome to McDonald! Let me know how can I help you?\n",
            "Nijara:I am looking something in burger?\n",
            "Bot: Great! we have a plenty of options to choose from\n",
            "Nijara:What all types do you have?\n",
            "Bot: (We have veg burgers, Non-veg Burgers, Wraps)\n",
            "Nijara:I want mcveggie burger and some fries and pizza mcpuff\n",
            "Bot: Sure! I will place your order right away\n",
            "Nijara:Do you have something in Desserts?\n",
            "Bot: (We have Mcswirl,Mcflurry,Browniefudge,Mcfloat,Cold Drinks)\n",
            "Nijara:I want one Mcflurry and Browniefudge?\n",
            "Bot: Sure! I will add these in your order, anything else would you like to order?\n",
            "Nijara:Can you repeat my order?\n",
            "Bot: Sure!, Your order is one Mcveggie, fries and Pizza Mcpuff and one Mcflurry and Browniefudge.\n",
            "Nijara:Do you have delivery option?\n",
            "Bot: What all types do you have?\n",
            "Nijara:Do you have home delivery option?\n",
            "Bot: yes, we do home delivery\n",
            "Nijara:Are you open on Sundays?\n",
            "Bot: Yes, we are open on Sundays as well\n",
            "Nijara:How to contact you?\n",
            "Bot: Please call @ 8904307393 or email @ support.Mcd@gmail.com\n",
            "Nijara:Bye\n",
            "Bot: Thank you for visiting McDonald\n"
          ],
          "name": "stdout"
        }
      ]
    }
  ]
}